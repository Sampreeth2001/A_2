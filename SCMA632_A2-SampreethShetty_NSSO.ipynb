{
 "cells": [
  {
   "cell_type": "code",
   "execution_count": 1,
   "id": "b562de60",
   "metadata": {},
   "outputs": [],
   "source": [
    "import pandas as pd\n",
    "import numpy as np\n",
    "import statsmodels.api as sm\n",
    "from statsmodels.stats.outliers_influence import variance_inflation_factor"
   ]
  },
  {
   "cell_type": "code",
   "execution_count": 2,
   "id": "0cb9dabd",
   "metadata": {},
   "outputs": [],
   "source": [
    "import os\n",
    "os.chdir('D:\\\\R Studio')"
   ]
  },
  {
   "cell_type": "code",
   "execution_count": 3,
   "id": "60c136cc",
   "metadata": {},
   "outputs": [
    {
     "name": "stderr",
     "output_type": "stream",
     "text": [
      "C:\\Users\\SAMPREETH\\AppData\\Local\\Temp\\ipykernel_18668\\4031375496.py:1: DtypeWarning: Columns (1) have mixed types. Specify dtype option on import or set low_memory=False.\n",
      "  data = pd.read_csv(\"NSSO68.csv\")\n"
     ]
    }
   ],
   "source": [
    "data = pd.read_csv(\"NSSO68.csv\")"
   ]
  },
  {
   "cell_type": "code",
   "execution_count": 5,
   "id": "7cc94c60",
   "metadata": {},
   "outputs": [
    {
     "data": {
      "text/plain": [
       "array(['GUJ', 'ORI', 'CHTSD', 'MP', 'JRKD', 'WB', 'AP', 'MH', 'D&D',\n",
       "       'D&NH', 'MIZ', 'TRPR', 'MANPR', 'ASSM', 'MEG', 'NAG', 'A&N',\n",
       "       'PNDCRY', 'TN', 'GOA', 'KA', 'KE', 'LKSDP', 'SKM', 'Bhr', 'UP',\n",
       "       'RJ', 'ARP', 'DL', 'HR', 'Pun', 'HP', 'UT', 'Chandr', 'J$K'],\n",
       "      dtype=object)"
      ]
     },
     "execution_count": 5,
     "metadata": {},
     "output_type": "execute_result"
    }
   ],
   "source": [
    "data['state_1'].unique()"
   ]
  },
  {
   "cell_type": "code",
   "execution_count": 45,
   "id": "a4fc8bcd",
   "metadata": {},
   "outputs": [
    {
     "name": "stdout",
     "output_type": "stream",
     "text": [
      "       foodtotal_q  MPCE_MRP  MPCE_URP  Age  Meals_At_Home  \\\n",
      "23109    17.925351   1124.92    982.00   38           54.0   \n",
      "23110    25.517352   2336.88   1704.67   45           30.0   \n",
      "23111    25.470640   1660.76   1243.80   88           60.0   \n",
      "23112    29.984010   2457.52   1853.00   63           60.0   \n",
      "23113    17.760602   1334.57   1221.80   33           58.0   \n",
      "...            ...       ...       ...  ...            ...   \n",
      "64086    16.200258    789.43    738.33   46           90.0   \n",
      "64087    24.787846   1589.75   1250.50   58           90.0   \n",
      "64088    15.100283    848.95    719.50   37           90.0   \n",
      "64089    16.175296    824.82    766.88   40           90.0   \n",
      "64090    23.075418   1370.72   1212.50   30           90.0   \n",
      "\n",
      "       Possess_ration_card  Education  No_of_Meals_per_day  \n",
      "23109                  1.0        6.0                  2.0  \n",
      "23110                  2.0        7.0                  2.0  \n",
      "23111                  1.0        6.0                  2.0  \n",
      "23112                  1.0        7.0                  2.0  \n",
      "23113                  1.0        8.0                  2.0  \n",
      "...                    ...        ...                  ...  \n",
      "64086                  1.0        1.0                  3.0  \n",
      "64087                  2.0        7.0                  3.0  \n",
      "64088                  2.0        8.0                  3.0  \n",
      "64089                  1.0        5.0                  3.0  \n",
      "64090                  1.0        5.0                  3.0  \n",
      "\n",
      "[4094 rows x 8 columns]\n"
     ]
    }
   ],
   "source": [
    "#Subsetting the data\n",
    "subset_data = data[data['state_1'] == 'KA'][['foodtotal_q', 'MPCE_MRP', 'MPCE_URP', 'Age', 'Meals_At_Home', 'Possess_ration_card', 'Education', 'No_of_Meals_per_day']]\n",
    "print(subset_data)"
   ]
  },
  {
   "cell_type": "code",
   "execution_count": 8,
   "id": "e05c961c",
   "metadata": {},
   "outputs": [
    {
     "name": "stdout",
     "output_type": "stream",
     "text": [
      "0\n",
      "0\n",
      "0\n",
      "0\n",
      "7\n"
     ]
    }
   ],
   "source": [
    "#Checking for missing values\n",
    "print(subset_data['MPCE_MRP'].isna().sum())\n",
    "print(subset_data['MPCE_URP'].isna().sum())\n",
    "print(subset_data['Age'].isna().sum())\n",
    "print(subset_data['Possess_ration_card'].isna().sum())\n",
    "print(data['Education'].isna().sum())"
   ]
  },
  {
   "cell_type": "code",
   "execution_count": 46,
   "id": "39f6459f",
   "metadata": {},
   "outputs": [],
   "source": [
    "#Creating a function to impute th emissing values with the mean of the variable\n",
    "def impute_with_mean(data, columns):\n",
    "    for column in columns:\n",
    "        data[column].fillna(data[column].mean(), inplace=True)\n",
    "    return data"
   ]
  },
  {
   "cell_type": "code",
   "execution_count": 47,
   "id": "f86c302a",
   "metadata": {},
   "outputs": [],
   "source": [
    "#Imputiong the columns\n",
    "columns_to_impute = ['Education', 'MPCE_MRP', 'MPCE_URP', 'Age', 'Meals_At_Home', 'Possess_ration_card', 'foodtotal_q']"
   ]
  },
  {
   "cell_type": "code",
   "execution_count": 48,
   "id": "a24942a4",
   "metadata": {},
   "outputs": [],
   "source": [
    "subset_data = impute_with_mean(subset_data, columns_to_impute)"
   ]
  },
  {
   "cell_type": "code",
   "execution_count": 49,
   "id": "13f47a58",
   "metadata": {},
   "outputs": [
    {
     "name": "stdout",
     "output_type": "stream",
     "text": [
      "foodtotal_q            0\n",
      "MPCE_MRP               0\n",
      "MPCE_URP               0\n",
      "Age                    0\n",
      "Meals_At_Home          0\n",
      "Possess_ration_card    0\n",
      "Education              0\n",
      "No_of_Meals_per_day    0\n",
      "dtype: int64\n"
     ]
    }
   ],
   "source": [
    "print(subset_data.isna().sum()) "
   ]
  },
  {
   "cell_type": "code",
   "execution_count": 51,
   "id": "c23b35d8",
   "metadata": {},
   "outputs": [],
   "source": [
    "#Fitting the regression model\n",
    "X = subset_data[['MPCE_MRP', 'MPCE_URP', 'Age', 'Meals_At_Home', 'Possess_ration_card', 'Education']]\n",
    "X = sm.add_constant(X)  # Adds a constant term to the predictor\n",
    "y = subset_data['foodtotal_q']\n"
   ]
  },
  {
   "cell_type": "code",
   "execution_count": 53,
   "id": "53dc6fda",
   "metadata": {},
   "outputs": [],
   "source": [
    "model = sm.OLS(y, X).fit()"
   ]
  },
  {
   "cell_type": "code",
   "execution_count": 54,
   "id": "cfb699f3",
   "metadata": {},
   "outputs": [
    {
     "name": "stdout",
     "output_type": "stream",
     "text": [
      "                            OLS Regression Results                            \n",
      "==============================================================================\n",
      "Dep. Variable:            foodtotal_q   R-squared:                       0.171\n",
      "Model:                            OLS   Adj. R-squared:                  0.170\n",
      "Method:                 Least Squares   F-statistic:                     140.6\n",
      "Date:                Sun, 23 Jun 2024   Prob (F-statistic):          1.66e-162\n",
      "Time:                        13:57:54   Log-Likelihood:                -14354.\n",
      "No. Observations:                4094   AIC:                         2.872e+04\n",
      "Df Residuals:                    4087   BIC:                         2.877e+04\n",
      "Df Model:                           6                                         \n",
      "Covariance Type:            nonrobust                                         \n",
      "=======================================================================================\n",
      "                          coef    std err          t      P>|t|      [0.025      0.975]\n",
      "---------------------------------------------------------------------------------------\n",
      "const                  12.0534      0.865     13.932      0.000      10.357      13.750\n",
      "MPCE_MRP                0.0009   5.81e-05     16.212      0.000       0.001       0.001\n",
      "MPCE_URP             9.543e-05   3.58e-05      2.668      0.008    2.53e-05       0.000\n",
      "Age                     0.1296      0.010     13.056      0.000       0.110       0.149\n",
      "Meals_At_Home           0.0374      0.007      5.562      0.000       0.024       0.051\n",
      "Possess_ration_card    -2.9937      0.315     -9.504      0.000      -3.611      -2.376\n",
      "Education               0.2470      0.037      6.608      0.000       0.174       0.320\n",
      "==============================================================================\n",
      "Omnibus:                     5440.704   Durbin-Watson:                   1.650\n",
      "Prob(Omnibus):                  0.000   Jarque-Bera (JB):          6839100.020\n",
      "Skew:                           6.726   Prob(JB):                         0.00\n",
      "Kurtosis:                     202.779   Cond. No.                     3.95e+04\n",
      "==============================================================================\n",
      "\n",
      "Notes:\n",
      "[1] Standard Errors assume that the covariance matrix of the errors is correctly specified.\n",
      "[2] The condition number is large, 3.95e+04. This might indicate that there are\n",
      "strong multicollinearity or other numerical problems.\n"
     ]
    }
   ],
   "source": [
    "#Printinf the regression results\n",
    "print(model.summary())"
   ]
  },
  {
   "cell_type": "code",
   "execution_count": 55,
   "id": "f852d1d6",
   "metadata": {},
   "outputs": [],
   "source": [
    "#Checking for multicollinearity using Inflator Factor (VIF)\n",
    "vif_data = pd.DataFrame()\n",
    "vif_data['feature'] = X.columns\n",
    "vif_data['VIF'] = [variance_inflation_factor(X.values, i) for i in range(X.shape[1])]\n"
   ]
  },
  {
   "cell_type": "code",
   "execution_count": 56,
   "id": "e39dd8a7",
   "metadata": {},
   "outputs": [
    {
     "name": "stdout",
     "output_type": "stream",
     "text": [
      "               feature        VIF\n",
      "0                const  47.066548\n",
      "1             MPCE_MRP   1.681909\n",
      "2             MPCE_URP   1.512695\n",
      "3                  Age   1.117918\n",
      "4        Meals_At_Home   1.107049\n",
      "5  Possess_ration_card   1.171771\n",
      "6            Education   1.222947\n"
     ]
    }
   ],
   "source": [
    "print(vif_data)"
   ]
  },
  {
   "cell_type": "code",
   "execution_count": 58,
   "id": "f37e26fd",
   "metadata": {},
   "outputs": [],
   "source": [
    "#Extracting the coefficients from the model\n",
    "coefficients = model.params"
   ]
  },
  {
   "cell_type": "code",
   "execution_count": 59,
   "id": "1e11b84d",
   "metadata": {},
   "outputs": [
    {
     "name": "stdout",
     "output_type": "stream",
     "text": [
      "y = 12.05 + 0.000941*x1 + 0.000095*x2 + 0.129580*x3 + 0.037396*x4 + -2.993684*x5 + 0.247028*x6\n"
     ]
    }
   ],
   "source": [
    "#Constructing the equation\n",
    "equation = f\"y = {coefficients[0]:.2f}\"\n",
    "for i in range(1, len(coefficients)):\n",
    "    equation += f\" + {coefficients[i]:.6f}*x{i}\"\n",
    "print(equation)\n"
   ]
  }
 ],
 "metadata": {
  "kernelspec": {
   "display_name": "Python 3 (ipykernel)",
   "language": "python",
   "name": "python3"
  },
  "language_info": {
   "codemirror_mode": {
    "name": "ipython",
    "version": 3
   },
   "file_extension": ".py",
   "mimetype": "text/x-python",
   "name": "python",
   "nbconvert_exporter": "python",
   "pygments_lexer": "ipython3",
   "version": "3.11.5"
  }
 },
 "nbformat": 4,
 "nbformat_minor": 5
}
